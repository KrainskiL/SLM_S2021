{
 "cells": [
  {
   "cell_type": "markdown",
   "metadata": {},
   "source": [
    "# Laboratory 3 - Nonparametric regression models"
   ]
  },
  {
   "cell_type": "markdown",
   "metadata": {},
   "source": [
    "**Statistical Learning Methods**"
   ]
  },
  {
   "cell_type": "markdown",
   "metadata": {
    "toc": true
   },
   "source": [
    "<h1>Table of Contents<span class=\"tocSkip\"></span></h1>\n",
    "<div class=\"toc\"><ul class=\"toc-item\"><li><span><a href=\"#Smoothing-spline-and-EDA\" data-toc-modified-id=\"Smoothing-spline-and-EDA-1\"><span class=\"toc-item-num\">1&nbsp;&nbsp;</span>Smoothing spline and EDA</a></span></li><li><span><a href=\"#Correlation-plots---corrplot-package\" data-toc-modified-id=\"Correlation-plots---corrplot-package-2\"><span class=\"toc-item-num\">2&nbsp;&nbsp;</span>Correlation plots - corrplot package</a></span></li><li><span><a href=\"#Cross-Validation-and-LOESS\" data-toc-modified-id=\"Cross-Validation-and-LOESS-3\"><span class=\"toc-item-num\">3&nbsp;&nbsp;</span>Cross Validation and LOESS</a></span></li><li><span><a href=\"#GAM\" data-toc-modified-id=\"GAM-4\"><span class=\"toc-item-num\">4&nbsp;&nbsp;</span>GAM</a></span></li></ul></div>"
   ]
  },
  {
   "cell_type": "markdown",
   "metadata": {},
   "source": [
    "## Smoothing spline and EDA"
   ]
  },
  {
   "cell_type": "code",
   "execution_count": null,
   "metadata": {},
   "outputs": [],
   "source": [
    "# install.packages(\"corrplot\")"
   ]
  },
  {
   "cell_type": "code",
   "execution_count": null,
   "metadata": {
    "scrolled": true
   },
   "outputs": [],
   "source": [
    "library(corrplot)"
   ]
  },
  {
   "cell_type": "code",
   "execution_count": null,
   "metadata": {},
   "outputs": [],
   "source": [
    "DATA_SET = read.table(\"DATA4-12.txt\")"
   ]
  },
  {
   "cell_type": "markdown",
   "metadata": {},
   "source": [
    "**Function to split plot box in line with number of plotted elements**"
   ]
  },
  {
   "cell_type": "code",
   "execution_count": null,
   "metadata": {},
   "outputs": [],
   "source": [
    "OptimizeMfrow = function(elements) {\n",
    "  columns = ceiling(sqrt(elements))\n",
    "  rows = ifelse(columns * (columns - 1) < elements, columns, columns - 1)\n",
    "  return(c(rows, columns))\n",
    "}"
   ]
  },
  {
   "cell_type": "markdown",
   "metadata": {},
   "source": [
    "**Function to draw histograms and density estimates**"
   ]
  },
  {
   "cell_type": "code",
   "execution_count": null,
   "metadata": {},
   "outputs": [],
   "source": [
    "DoHistogram = function(values, values.name) {\n",
    "  histogram = hist(values, plot = FALSE)\n",
    "  density.estimate = density(values)\n",
    "  y.maximum = max(histogram$density, density.estimate$y)\n",
    "  plot(histogram, freq = FALSE, ylim = c(0, y.maximum), \n",
    "       xlab = values.name, ylab = \"density\", main = NULL)\n",
    "  lines(density.estimate, lwd = 2)\n",
    "}"
   ]
  },
  {
   "cell_type": "markdown",
   "metadata": {},
   "source": [
    "**Function to draw scatterplots and splines**"
   ]
  },
  {
   "cell_type": "code",
   "execution_count": null,
   "metadata": {},
   "outputs": [],
   "source": [
    "DoScatterplot = function(x.values, x.name) {\n",
    "  plot(x.values, DATA_SET$MORT,\n",
    "       xlab = x.name, ylab = \"MORT\", main = NULL, col = gray(0.4))\n",
    "  lines(smooth.spline(x.values, DATA_SET$MORT), lwd = 2)\n",
    "  abline(lm(DATA_SET$MORT ~ x.values)$coef, col = gray(0.7), lwd = 2, lty = 2)\n",
    "}"
   ]
  },
  {
   "cell_type": "markdown",
   "metadata": {},
   "source": [
    "**Function to draw boxplots**"
   ]
  },
  {
   "cell_type": "code",
   "execution_count": null,
   "metadata": {},
   "outputs": [],
   "source": [
    "DoBoxplot = function(values, values.name) {\n",
    "  boxplot(values, horizontal = TRUE, xlab = values.name)\n",
    "  median.leg = paste(\"median = \", round(median(values), digits = 4),\"\\n\")\n",
    "  q25 = quantile(values, 0.25)\n",
    "  q25.leg = paste(\"25th percentile =\", round(q25,digits = 4),\"\\n\")\n",
    "  q75 = quantile(values, 0.75)\n",
    "  q75.leg = paste(\"75th percentile =\", round(q75,digits = 4))\n",
    "  legend(x = \"bottomleft\", paste(q25.leg, median.leg, q75.leg, sep = \"\"), bty = \"n\",cex=1.3)\n",
    "}"
   ]
  },
  {
   "cell_type": "code",
   "execution_count": null,
   "metadata": {},
   "outputs": [],
   "source": [
    "names(DATA_SET) = c(\"MORT\", \"INCC\", \"POV\", \"EDU1\", \"EDU2\", \"ALCC\",\n",
    "                     \"TOBC\", \"HEXC\", \"PHYS\", \"URB\", \"AGED\")"
   ]
  },
  {
   "cell_type": "code",
   "execution_count": null,
   "metadata": {},
   "outputs": [],
   "source": [
    "cat(\"Variable names:\\n\", names(DATA_SET))\n",
    "cat(\"\\n\\nBasic statistics:\\n\")\n",
    "print(summary(DATA_SET))\n",
    "cat(\"\\nCorrelation matrix:\\n\")\n",
    "cormat = cor(DATA_SET)\n",
    "print(cormat, digits = 1)"
   ]
  },
  {
   "cell_type": "code",
   "execution_count": null,
   "metadata": {},
   "outputs": [],
   "source": [
    "options(repr.plot.width=16, repr.plot.height=15)\n",
    "par(mfrow = OptimizeMfrow(ncol(DATA_SET)),  mar = c(5, 4, 1, 1))\n",
    "invisible(mapply(DoBoxplot, DATA_SET, names(DATA_SET)))"
   ]
  },
  {
   "cell_type": "markdown",
   "metadata": {},
   "source": [
    "## Correlation plots - corrplot package"
   ]
  },
  {
   "cell_type": "code",
   "execution_count": null,
   "metadata": {},
   "outputs": [],
   "source": [
    "options(repr.plot.width=8, repr.plot.height=8)\n",
    "corrplot(cormat, method=\"circle\")"
   ]
  },
  {
   "cell_type": "code",
   "execution_count": null,
   "metadata": {},
   "outputs": [],
   "source": [
    "corrplot(cormat, method=\"pie\")"
   ]
  },
  {
   "cell_type": "code",
   "execution_count": null,
   "metadata": {},
   "outputs": [],
   "source": [
    "corrplot(cormat, method=\"color\")"
   ]
  },
  {
   "cell_type": "code",
   "execution_count": null,
   "metadata": {},
   "outputs": [],
   "source": [
    "corrplot(cormat, type=\"upper\")"
   ]
  },
  {
   "cell_type": "code",
   "execution_count": null,
   "metadata": {
    "scrolled": false
   },
   "outputs": [],
   "source": [
    "corrplot(cormat, type=\"upper\", method=\"pie\")"
   ]
  },
  {
   "cell_type": "code",
   "execution_count": null,
   "metadata": {
    "scrolled": false
   },
   "outputs": [],
   "source": [
    "corrplot(cormat, type=\"upper\", method=\"color\", order=\"AOE\")"
   ]
  },
  {
   "cell_type": "code",
   "execution_count": null,
   "metadata": {
    "scrolled": false
   },
   "outputs": [],
   "source": [
    "corrplot(cormat, type=\"lower\", order=\"FPC\", col=c(\"magenta\", \"yellow\"),bg=\"lightblue\")"
   ]
  },
  {
   "cell_type": "code",
   "execution_count": null,
   "metadata": {},
   "outputs": [],
   "source": [
    "cor.mtest = function(mat, ...) {\n",
    "  mat = as.matrix(mat)\n",
    "  n = ncol(mat)\n",
    "  p.mat= matrix(NA, n, n)\n",
    "  diag(p.mat) = 0\n",
    "  for (i in 1:(n - 1)) {\n",
    "    for (j in (i + 1):n) {\n",
    "      tmp = cor.test(mat[, i], mat[, j], ...)\n",
    "      p.mat[i, j] = p.mat[j, i] = tmp$p.value\n",
    "    }\n",
    "  }\n",
    "  colnames(p.mat) = rownames(p.mat) = colnames(mat)\n",
    "  p.mat\n",
    "}"
   ]
  },
  {
   "cell_type": "markdown",
   "metadata": {},
   "source": [
    "**matrix of the p-value of the correlation**"
   ]
  },
  {
   "cell_type": "code",
   "execution_count": null,
   "metadata": {
    "scrolled": false
   },
   "outputs": [],
   "source": [
    "p.mat = cor.mtest(DATA_SET)\n",
    "corrplot(cormat, type=\"upper\", order=\"hclust\", p.mat = p.mat, sig.level = 0.01)"
   ]
  },
  {
   "cell_type": "markdown",
   "metadata": {},
   "source": [
    "**More examples in here:**\n",
    "\n",
    "http://www.sthda.com/english/wiki/visualize-correlation-matrix-using-correlogram"
   ]
  },
  {
   "cell_type": "code",
   "execution_count": null,
   "metadata": {
    "scrolled": false
   },
   "outputs": [],
   "source": [
    "options(repr.plot.width=16, repr.plot.height=12)\n",
    "par(mfrow = OptimizeMfrow(ncol(DATA_SET)),  mar = c(5, 4, 1, 1))\n",
    "invisible(mapply(DoHistogram, DATA_SET, names(DATA_SET)))"
   ]
  },
  {
   "cell_type": "code",
   "execution_count": null,
   "metadata": {
    "scrolled": false
   },
   "outputs": [],
   "source": [
    "par(mfrow = OptimizeMfrow(ncol(DATA_SET) - 1),  mar = c(5, 4, 1, 1))\n",
    "invisible(mapply(DoScatterplot, DATA_SET[-1], names(DATA_SET[-1])))\n",
    "plot.new()\n",
    "plot.new()\n",
    "legend(\"left\", c(\"data\", \"linear\", \"smoothed\"), bty = \"n\",\n",
    "       col = c(gray(0.4), gray(0.7), \"black\"), pch = c(1, -1, -1),\n",
    "       lty = c(-1, 2, 1), lwd = c(-1, 2, 2))"
   ]
  },
  {
   "cell_type": "markdown",
   "metadata": {},
   "source": [
    "Smoothing spline $f(x)$ is calculated by optimization of following formula:\n",
    "$$\\sum_{i=1}^N(y_i-f(x_i))^2+\\lambda \\int_D(f^{''}(t))^2\\textit{d}t \\rightarrow min$$\n",
    "\n",
    "where $\\lambda$ is smoothing parameter (set automatically in R). Optimal solution of above formula is always continous spline consisted of cubic polynomials."
   ]
  },
  {
   "cell_type": "markdown",
   "metadata": {},
   "source": [
    "## Cross Validation and LOESS"
   ]
  },
  {
   "cell_type": "markdown",
   "metadata": {},
   "source": [
    "Dataset:\n",
    "\n",
    "http://archive.ics.uci.edu/ml/machine-learning-databases/housing/housing.data"
   ]
  },
  {
   "cell_type": "code",
   "execution_count": null,
   "metadata": {},
   "outputs": [],
   "source": [
    "set.seed(1)\n",
    "\n",
    "# Function for splitting dataset\n",
    "GetSplitLabels = function(data.length, proportions) {\n",
    "  proportioned.labels = rep(1:length(proportions), proportions)\n",
    "  labels = rep(proportioned.labels,len = data.length)\n",
    "  return(sample(labels, data.length))\n",
    "}"
   ]
  },
  {
   "cell_type": "markdown",
   "metadata": {},
   "source": [
    "**Loading an preprocessing data**"
   ]
  },
  {
   "cell_type": "markdown",
   "metadata": {},
   "source": [
    "![](https://upload.wikimedia.org/wikipedia/commons/1/1c/K-fold_cross_validation_EN.jpg)"
   ]
  },
  {
   "cell_type": "code",
   "execution_count": null,
   "metadata": {},
   "outputs": [],
   "source": [
    "CV_FOLDS = 10\n",
    "SPAN_LEVELS = seq(from = 0.1, to = 1, length.out = 100)\n",
    "RAW_DATA_SET = readLines(\"http://archive.ics.uci.edu/ml/machine-learning-databases/housing/housing.data\")\n",
    "LSTAT = as.numeric(substr(RAW_DATA_SET, 85, 90))\n",
    "MEDV = as.numeric(substr(RAW_DATA_SET, 92, 97))\n",
    "MERGED = data.frame(MEDV,LSTAT)"
   ]
  },
  {
   "cell_type": "code",
   "execution_count": null,
   "metadata": {},
   "outputs": [],
   "source": [
    "LSTAT.bounds = range(LSTAT)\n",
    "LSTAT.grid = seq(from = LSTAT.bounds[1], to = LSTAT.bounds[2])"
   ]
  },
  {
   "cell_type": "code",
   "execution_count": null,
   "metadata": {},
   "outputs": [],
   "source": [
    "# \"span\" parameter defines the share of neighbours we take into account\n",
    "fit = loess(MEDV~LSTAT, span=.2, data=MERGED)\n",
    "# s=0.2 (better local fit - curve is less smooth)\n",
    "fit2 = loess(MEDV~LSTAT, span=.5, data=MERGED) \n",
    "# s=0.5 (lbetter global fit - smoother curve)"
   ]
  },
  {
   "cell_type": "code",
   "execution_count": null,
   "metadata": {
    "scrolled": false
   },
   "outputs": [],
   "source": [
    "options(repr.plot.width=8, repr.plot.height=8)\n",
    "plot(LSTAT, MEDV, cex=.5, col=\"black\")\n",
    "title(\"Local Regression\")\n",
    "lines(LSTAT.grid,predict(fit,data.frame(LSTAT=LSTAT.grid)),col=\"red\",lwd=2) # s=0.2\n",
    "lines(LSTAT.grid,predict(fit2,data.frame(LSTAT=LSTAT.grid)),col=\"blue\",lwd=2) # s=0.5\n",
    "legend(\"topright\",legend=c(\"Span=0.2\",\"Span=0.5\"),col=c(\"red\",\"blue\"),lty=1,lwd=2,cex=.8)\n"
   ]
  },
  {
   "cell_type": "markdown",
   "metadata": {},
   "source": [
    "Local regression (LOESS) work as follows:\n",
    "\n",
    "For any given point $x_0$ prediction of second degree LOESS (default for `loess` function in R) is defined by formula:\n",
    "\n",
    "$$\\hat{f}(x_0)=\\hat{\\alpha}(x_0)+\\hat{\\beta}(x_0)x_0+\\hat{\\gamma}(x_0)x_0^2$$\n",
    "\n",
    "Coefficients $\\alpha,\\beta,\\gamma$ are calculated for given point $x_0$ and are obtained through optimization task:\n",
    "\n",
    "$$\\min_{\\alpha(x_0),\\beta(x_0),\\gamma(x_0)} \\sum_{i=1}^NK_{\\lambda}(x_0,x_i)\\left(\\alpha(x_0)+\\beta(x_0)x_i+\\gamma(x_0)x_i^2-y_i\\right)^2$$\n",
    "\n",
    "where $K_{\\lambda}$ is defined as:\n",
    "\n",
    "$$K_{\\lambda}(x_0,x_i)=\\phi\\left(\\frac{|x_0-x_i|}{\\lambda}\\right)$$"
   ]
  },
  {
   "cell_type": "markdown",
   "metadata": {},
   "source": [
    "**Creation of labels for cross-validation**"
   ]
  },
  {
   "cell_type": "code",
   "execution_count": null,
   "metadata": {},
   "outputs": [],
   "source": [
    "split.labels = GetSplitLabels(length(LSTAT), rep(1, CV_FOLDS))"
   ]
  },
  {
   "cell_type": "code",
   "execution_count": null,
   "metadata": {},
   "outputs": [],
   "source": [
    "sse = numeric(length(SPAN_LEVELS))\n",
    "for (fold in 1:CV_FOLDS) {\n",
    "  training.x = LSTAT[split.labels != fold]\n",
    "  training.y = MEDV[split.labels != fold]\n",
    "  testing.x = LSTAT[split.labels == fold]\n",
    "  testing.y = MEDV[split.labels == fold]\n",
    "  for (i in 1:length(SPAN_LEVELS)) {\n",
    "    model = loess(training.y ~ training.x, span = SPAN_LEVELS[i],\n",
    "                   control = loess.control(surface = \"direct\"))\n",
    "    prediction = predict(model, data.frame(training.x = testing.x))\n",
    "    sse[i] = sse[i] + sum((prediction - testing.y) ^ 2)\n",
    "  }\n",
    "}"
   ]
  },
  {
   "cell_type": "code",
   "execution_count": null,
   "metadata": {},
   "outputs": [],
   "source": [
    "optimal.span = SPAN_LEVELS[which.min(sse)]\n",
    "model = loess(MEDV ~ LSTAT, span = optimal.span)"
   ]
  },
  {
   "cell_type": "code",
   "execution_count": null,
   "metadata": {
    "scrolled": false
   },
   "outputs": [],
   "source": [
    "options(repr.plot.width=15, repr.plot.height=8)\n",
    "par(mfrow = c(1, 2))\n",
    "plot(SPAN_LEVELS, sse, cex = 0.7, col = gray(0.6))\n",
    "points(optimal.span, sse[which.min(sse)], pch = 19)\n",
    "plot(LSTAT, MEDV, cex = 0.7, col = gray(0.6))\n",
    "lines(sort(LSTAT), predict(model)[order(LSTAT)], lwd = 3)"
   ]
  },
  {
   "cell_type": "markdown",
   "metadata": {},
   "source": [
    "## GAM"
   ]
  },
  {
   "cell_type": "code",
   "execution_count": null,
   "metadata": {},
   "outputs": [],
   "source": [
    "library(mgcv)\n",
    "library(ROCR)\n",
    "library(Ecdat)"
   ]
  },
  {
   "cell_type": "code",
   "execution_count": null,
   "metadata": {
    "scrolled": true
   },
   "outputs": [],
   "source": [
    "set.seed(1)\n",
    "head(Participation)"
   ]
  },
  {
   "cell_type": "code",
   "execution_count": null,
   "metadata": {},
   "outputs": [],
   "source": [
    "LABELS = factor(rep(c(\"train\", \"test\"), length = nrow(Participation)))\n",
    "random.labels = sample(LABELS)\n",
    "split.data = split(Participation, random.labels)"
   ]
  },
  {
   "cell_type": "markdown",
   "metadata": {},
   "source": [
    "**GLM**\n",
    "\n",
    "$$g(E_Y(y|x))=\\beta_0+\\beta_1{}x_{1}+\\ldots{}\\beta_p{}x_{p}$$\n",
    "\n",
    "$g()$ is a link function. For example in logistic regression:\n",
    "\n",
    "$$ln\\left(\\frac{E_Y(y|x)}{1-E_Y(y|x)}\\right)=ln\\left(\\frac{P(y=1|x)}{1-P(y=1|x)}\\right)=x^{T}\\beta$$\n",
    "\n",
    "**GAM**\n",
    "\n",
    "$$g(E_Y(y|x))=\\beta_0+f_1(x_{1})+f_2(x_{2})+\\ldots+f_p(x_{p})$$"
   ]
  },
  {
   "cell_type": "code",
   "execution_count": null,
   "metadata": {},
   "outputs": [],
   "source": [
    "glm.model = glm(lfp ~ lnnlinc + age,\n",
    "                 family = binomial, data = split.data$train)\n",
    "gam.model = gam(lfp ~ s(lnnlinc) + s(age),\n",
    "                 family = binomial, data = split.data$train)\n",
    "glm.prediction = predict(glm.model, newdata = split.data$test)\n",
    "gam.prediction = as.vector(predict(gam.model, newdata = split.data$test))"
   ]
  },
  {
   "cell_type": "code",
   "execution_count": null,
   "metadata": {
    "scrolled": false
   },
   "outputs": [],
   "source": [
    "plot(gam.model)"
   ]
  },
  {
   "cell_type": "code",
   "execution_count": null,
   "metadata": {},
   "outputs": [],
   "source": [
    "par(mfrow = c(1,1))\n",
    "\n",
    "plot(performance(prediction(gam.prediction, split.data$test$lfp),\"tpr\", \"fpr\"),lwd = 2, lty = 2)\n",
    "plot(performance(prediction(glm.prediction, split.data$test$lfp),\"tpr\", \"fpr\"),add = TRUE, lwd = 2, lty = 1)\n",
    "legend(\"bottomright\", c(\"GLM\", \"GAM\"),lwd = 2, lty = 1:2)"
   ]
  }
 ],
 "metadata": {
  "kernelspec": {
   "display_name": "R",
   "language": "R",
   "name": "ir"
  },
  "language_info": {
   "codemirror_mode": "r",
   "file_extension": ".r",
   "mimetype": "text/x-r-source",
   "name": "R",
   "pygments_lexer": "r",
   "version": "4.0.2"
  },
  "toc": {
   "base_numbering": 1,
   "nav_menu": {},
   "number_sections": true,
   "sideBar": true,
   "skip_h1_title": true,
   "title_cell": "Table of Contents",
   "title_sidebar": "Contents",
   "toc_cell": true,
   "toc_position": {
    "height": "calc(100% - 180px)",
    "left": "10px",
    "top": "150px",
    "width": "210px"
   },
   "toc_section_display": true,
   "toc_window_display": false
  }
 },
 "nbformat": 4,
 "nbformat_minor": 4
}
